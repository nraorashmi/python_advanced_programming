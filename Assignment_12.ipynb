{
 "cells": [
  {
   "cell_type": "markdown",
   "metadata": {},
   "source": [
    "1. For this challenge, forget how to add two numbers together. The best explanation on what to do for this function is this meme:\n",
    "    Examples\n",
    "\n",
    "meme_sum(26, 39) ➞ 515\n",
    "# 2+3 = 5, 6+9 = 15\n",
    "# 26 + 39 = 515\n",
    "\n",
    "meme_sum(122, 81) ➞ 1103\n",
    "# 1+0 = 1, 2+8 = 10, 2+1 = 3\n",
    "# 122 + 81 = 1103\n",
    "\n",
    "meme_sum(1222, 30277) ➞ 31499\n"
   ]
  },
  {
   "cell_type": "code",
   "execution_count": 47,
   "metadata": {},
   "outputs": [
    {
     "data": {
      "text/plain": [
       "31499"
      ]
     },
     "execution_count": 47,
     "metadata": {},
     "output_type": "execute_result"
    }
   ],
   "source": [
    "def meme_sum(n1,n2):\n",
    "    n1=str(n1)\n",
    "    n2=str(n2)\n",
    "    l1=[]\n",
    "    res=\"\"\n",
    "    if len(n1)>len(n2):\n",
    "        n2=n2.zfill(len(n1))\n",
    "    elif  len(n1)<len(n2):   \n",
    "        n1=n1.zfill(len(n2))\n",
    "    for i in range(len(n1)):\n",
    "        l1.append(int(n1[i])+int(n2[i]))  \n",
    "        res= res+\"\".join(str(l1[i]))\n",
    "    return int(res)\n",
    "meme_sum(1222, 30277)   "
   ]
  },
  {
   "cell_type": "markdown",
   "metadata": {},
   "source": [
    "2. Given an integer, create a function that returns the next prime. If the number is prime, return the number itself.\n",
    "\n",
    "Examples\n",
    "\n",
    "next_prime(12) ➞ 13\n",
    "\n",
    "next_prime(24) ➞ 29\n",
    "\n",
    "next_prime(11) ➞ 11\n",
    "# 11 is a prime, so we return the number itself.\n"
   ]
  },
  {
   "cell_type": "code",
   "execution_count": 5,
   "metadata": {},
   "outputs": [
    {
     "data": {
      "text/plain": [
       "29"
      ]
     },
     "execution_count": 5,
     "metadata": {},
     "output_type": "execute_result"
    }
   ],
   "source": [
    "import sympy.ntheory as nt\n",
    "def next_prime(n):\n",
    "    if nt.isprime(n)==True:\n",
    "        return n\n",
    "    else:\n",
    "        return nt.nextprime(n)\n",
    "next_prime(24)    "
   ]
  },
  {
   "cell_type": "markdown",
   "metadata": {},
   "source": [
    "3. If a person traveled up a hill for 18mins at 20mph and then traveled back down the same path at 60mph then their average speed traveled was 30mph.\n",
    "\n",
    "Write a function that returns the average speed traveled given an uphill time, uphill rate and a downhill rate. Uphill time is given in minutes. Return the rate as an integer (mph). No rounding is necessary.\n",
    "\n",
    "Examples\n",
    "\n",
    "ave_spd(18, 20, 60) ➞ 30\n",
    "\n",
    "ave_spd(30, 10, 30) ➞ 15\n",
    "\n",
    "ave_spd(30, 8, 24) ➞ 12\n"
   ]
  },
  {
   "cell_type": "code",
   "execution_count": 27,
   "metadata": {},
   "outputs": [
    {
     "data": {
      "text/plain": [
       "15"
      ]
     },
     "execution_count": 27,
     "metadata": {},
     "output_type": "execute_result"
    }
   ],
   "source": [
    "def ave_spd(t,ur,dr):\n",
    "    distance=ur*t/60 \n",
    "    dt=distance/dr\n",
    "    avgspeed=(2*distance)/((t/60)+dt)\n",
    "    return int(avgspeed)\n",
    "ave_spd(30, 10, 30)    "
   ]
  },
  {
   "cell_type": "markdown",
   "metadata": {},
   "source": [
    "4. The Kempner Function, applied to a composite number, permits to find the smallest integer greater than zero whose factorial is exactly divided by the number.\n",
    "\n",
    "kempner(6) ➞ 3\n",
    "\n",
    "1! = 1 % 6 > 0\n",
    "2! = 2 % 6 > 0\n",
    "3! = 6 % 6 === 0\n",
    "\n",
    "kempner(10) ➞ 5\n",
    "\n",
    "1! = 1 % 10 > 0\n",
    "2! = 2 % 10 > 0\n",
    "3! = 6 % 10 > 0\n",
    "4! = 24 % 10 > 0\n",
    "5! = 120 % 10 === 0\n",
    "\n",
    "A Kempner Function applied to a prime will always return the prime itself.\n",
    "\n",
    "kempner(2) ➞ 2\n",
    "kempner(5) ➞ 5\n",
    "\n",
    "Given an integer n, implement a Kempner Function.\n",
    "\n",
    "Examples\n",
    "\n",
    "kempner(6) ➞ 3\n",
    "\n",
    "kempner(10) ➞ 5\n",
    "\n",
    "kempner(2) ➞ 2\n"
   ]
  },
  {
   "cell_type": "code",
   "execution_count": 37,
   "metadata": {},
   "outputs": [
    {
     "data": {
      "text/plain": [
       "5"
      ]
     },
     "execution_count": 37,
     "metadata": {},
     "output_type": "execute_result"
    }
   ],
   "source": [
    "import math\n",
    "def kempner(n):\n",
    "    for i in range(1,n+1):\n",
    "        if math.factorial(i)%n==0:\n",
    "            return i\n",
    "    else:            \n",
    "        return n\n",
    "kempner(5)    "
   ]
  },
  {
   "cell_type": "markdown",
   "metadata": {},
   "source": [
    "5. You work in a factory, and your job is to take items from a conveyor belt and pack them into boxes. Each box can hold a maximum of 10 kgs. Given a list containing the weight (in kg) of each item, how many boxes would you need to pack all of the items?\n",
    "\n",
    "Example\n",
    "\n",
    "boxes([2, 1, 2, 5, 4, 3, 6, 1, 1, 9, 3, 2]) ➞ 5\n",
    "\n",
    "# Box 1 = [2, 1, 2, 5] (10kg)\n",
    "# Box 2 = [4, 3] (7kg)\n",
    "# Box 3 = [6, 1, 1] (8kg)\n",
    "# Box 4 = [9] (9kg)\n",
    "# Box 5 = [3, 2] (5kg)\n"
   ]
  },
  {
   "cell_type": "code",
   "execution_count": 88,
   "metadata": {},
   "outputs": [
    {
     "data": {
      "text/plain": [
       "5"
      ]
     },
     "execution_count": 88,
     "metadata": {},
     "output_type": "execute_result"
    }
   ],
   "source": [
    "def boxes(l):\n",
    "    sum=0\n",
    "    box=0\n",
    "    for i in range(len(l)):\n",
    "        sum=sum+l[i]\n",
    "        if sum<10:\n",
    "            if i!= len(l)-1:\n",
    "                continue\n",
    "            else:   \n",
    "                box=box+1\n",
    "        elif sum==10:\n",
    "            box=box+1\n",
    "            sum=0\n",
    "        else:\n",
    "            box=box+1\n",
    "            sum=l[i]\n",
    "            if i== len(l)-1:\n",
    "                box=box+1\n",
    "    return box      \n",
    "boxes([2, 1, 2, 5, 4, 3, 6, 1, 1, 9, 3, 2])  "
   ]
  }
 ],
 "metadata": {
  "kernelspec": {
   "display_name": "Python 3",
   "language": "python",
   "name": "python3"
  },
  "language_info": {
   "codemirror_mode": {
    "name": "ipython",
    "version": 3
   },
   "file_extension": ".py",
   "mimetype": "text/x-python",
   "name": "python",
   "nbconvert_exporter": "python",
   "pygments_lexer": "ipython3",
   "version": "3.8.5"
  }
 },
 "nbformat": 4,
 "nbformat_minor": 4
}
