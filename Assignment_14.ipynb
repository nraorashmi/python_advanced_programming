{
 "cells": [
  {
   "cell_type": "markdown",
   "metadata": {},
   "source": [
    "1. Given a list of numbers, create a function that removes 25% from every number in the list except the smallest number, \n",
    "and adds the total amount removed to the smallest number.\n",
    "\n",
    "Examples\n",
    "\n",
    "show_the_love([4, 1, 4]) ➞ [3, 3, 3]\n",
    "\n",
    "show_the_love([16, 10, 8]) ➞ [12, 7.5, 14.5]\n",
    "\n",
    "show_the_love([2, 100]) ➞ [27, 75]"
   ]
  },
  {
   "cell_type": "code",
   "execution_count": 30,
   "metadata": {},
   "outputs": [
    {
     "data": {
      "text/plain": [
       "[3, 3, 3]"
      ]
     },
     "execution_count": 30,
     "metadata": {},
     "output_type": "execute_result"
    }
   ],
   "source": [
    "def show_the_love(l):\n",
    "    l1=[]\n",
    "    sum=0\n",
    "    ind=l.index(min(l))\n",
    "    for i in l:\n",
    "        if i != min(l):\n",
    "            x= i-0.25*i\n",
    "            l1.append(int(x) if x.is_integer() else float(x))\n",
    "            sum=sum+0.25*i\n",
    "        else:\n",
    "            sum=sum+i\n",
    "    l1.insert(ind,int(sum) if sum.is_integer() else float(sum))\n",
    "    return l1        \n",
    " \n",
    "show_the_love([4,1,4])"
   ]
  },
  {
   "cell_type": "markdown",
   "metadata": {},
   "source": [
    "2. Create a function that takes in two words as input and returns a list of three elements, in the following order:\n",
    "\n",
    "   1.Shared letters between two words.\n",
    "   2.Letters unique to word 1.\n",
    "   3.Letters unique to word 2.\n",
    "\n",
    "Each element should have unique letters, and have each letter be alphabetically sorted.\n",
    "\n",
    "Examples\n",
    "\n",
    "letters(\"sharp\", \"soap\") ➞ [\"aps\", \"hr\", \"o\"]\n",
    "\n",
    "letters(\"board\", \"bored\") ➞ [\"bdor\", \"a\", \"e\"]\n",
    "\n",
    "letters(\"happiness\", \"envelope\") ➞ [\"enp\", \"ahis\", \"lov\"]\n",
    "\n",
    "letters(\"kerfuffle\", \"fluffy\") ➞ [\"flu\", \"ekr\", \"y\"]\n",
    "# Even with multiple matching letters (e.g. 3 f's), there should \n",
    "# only exist a single \"f\" in your first element.\n",
    "\n",
    "letters(\"match\", \"ham\") ➞ [\"ahm\", \"ct\", \"\"]\n",
    "# \"ham\" does not contain any letters that are not found already \n",
    "# in \"match\"."
   ]
  },
  {
   "cell_type": "code",
   "execution_count": 62,
   "metadata": {},
   "outputs": [
    {
     "data": {
      "text/plain": [
       "['ahm', 'ct', '']"
      ]
     },
     "execution_count": 62,
     "metadata": {},
     "output_type": "execute_result"
    }
   ],
   "source": [
    "def letters(w1,w2):\n",
    "    l1=[]    \n",
    "    c=''.join(sorted((set(w1).intersection(set(w2)))))\n",
    "    b1=''.join(sorted(set(w1).difference(c)))\n",
    "    b2=''.join(sorted(set(w2).difference(c)))\n",
    "    l1.append(c)\n",
    "    l1.append(b1)\n",
    "    l1.append(b2)\n",
    "    return l1\n",
    "letters(\"match\", \"ham\")"
   ]
  },
  {
   "cell_type": "markdown",
   "metadata": {},
   "source": [
    "3. Write a function that pairs the first number in an array with the last, the second number with the second to last, etc.\n",
    "\n",
    "Examples\n",
    "\n",
    "pairs([1, 2, 3, 4, 5, 6, 7]) ➞ [[1, 7], [2, 6], [3, 5], [4, 4]]\n",
    "\n",
    "pairs([1, 2, 3, 4, 5, 6]) ➞ [[1, 6], [2, 5], [3, 4]]\n",
    "\n",
    "pairs([5, 9, 8, 1, 2]) ➞ [[5, 2], [9, 1], [8, 8]]\n",
    "\n",
    "pairs([]) ➞ []"
   ]
  },
  {
   "cell_type": "code",
   "execution_count": 116,
   "metadata": {},
   "outputs": [
    {
     "data": {
      "text/plain": [
       "[[1, 7], [2, 6], [3, 5], [4, 4]]"
      ]
     },
     "execution_count": 116,
     "metadata": {},
     "output_type": "execute_result"
    }
   ],
   "source": [
    "import math \n",
    "def pairs(l):\n",
    "    l1=[]\n",
    "    if len(l)>0:\n",
    "        mid=int(len(l)/2) if len(l)%2==0 else (int(math.ceil(len(l)/2)))\n",
    "        j=len(l)\n",
    "        for i in range(mid):\n",
    "            l1.append([l[i],l[j-1]])\n",
    "            j=j-1\n",
    "        return (l1)    \n",
    "    else:\n",
    "        return []\n",
    "pairs([1, 2, 3, 4, 5, 6, 7])    "
   ]
  },
  {
   "cell_type": "markdown",
   "metadata": {},
   "source": [
    "4. Write a function that adds two numbers. The catch, however, is that the numbers will be strings.\n",
    "\n",
    "Examples\n",
    "\n",
    "add_str_nums(\"4\", \"5\") ➞ \"9\"\n",
    "\n",
    "add_str_nums(\"abcdefg\", \"3\") ➞ \"-1\"\n",
    "\n",
    "add_str_nums(\"1\", \"\") ➞ \"1\"\n",
    "\n",
    "add_str_nums(\"1874682736267235927359283579235789257\", \"32652983572985729\") ➞ \"1874682736267235927391936562808774986\""
   ]
  },
  {
   "cell_type": "code",
   "execution_count": 143,
   "metadata": {},
   "outputs": [
    {
     "data": {
      "text/plain": [
       "'9'"
      ]
     },
     "execution_count": 143,
     "metadata": {},
     "output_type": "execute_result"
    }
   ],
   "source": [
    "def add_str_nums(n1,n2):\n",
    "    if n1.isdigit() and n2.isdigit():\n",
    "        return str(sum(int(i) for i in (n1,n2)))\n",
    "    elif n1==\"\":\n",
    "        return str(sum(int(i) for i in (0,n2)))\n",
    "    elif n2==\"\":\n",
    "        return str(sum(int(i) for i in (n1,0)))\n",
    "    elif (n1.isalnum() or n1.isalpha() ) ==True:\n",
    "        return \"-1\"\n",
    "    elif (n2.isalnum() or n2.isalpha() ) ==True:\n",
    "        return \"-1\"  \n",
    "add_str_nums(\"4\", \"5\")    "
   ]
  },
  {
   "cell_type": "markdown",
   "metadata": {},
   "source": [
    "5. lPaeesh le pemu mnxit ehess rtnisg! Oh, sorry, that was supposed to say: Please help me unmix these strings!\n",
    "\n",
    "Somehow my strings have all become mixed up; every pair of characters has been swapped. Help me undo this so I can understand my strings again.\n",
    "\n",
    "Examples\n",
    "\n",
    "unmix(\"123456\") ➞ \"214365\"\n",
    "\n",
    "unmix(\"hTsii  s aimex dpus rtni.g\") ➞ \"This is a mixed up string.\"\n",
    "\n",
    "unmix(\"badce\") ➞ \"abcde\""
   ]
  },
  {
   "cell_type": "code",
   "execution_count": 174,
   "metadata": {},
   "outputs": [
    {
     "data": {
      "text/plain": [
       "'abcde'"
      ]
     },
     "execution_count": 174,
     "metadata": {},
     "output_type": "execute_result"
    }
   ],
   "source": [
    "def unmix(s):\n",
    "    o=\"\"\n",
    "    for i in range(1,len(s),2):\n",
    "        o=o+\"\".join(s[i]+s[i-1])\n",
    "    if i!=len(s)-1 :\n",
    "        o=o+s[i+1]\n",
    "    return o\n",
    "unmix(\"badce\")"
   ]
  }
 ],
 "metadata": {
  "kernelspec": {
   "display_name": "Python 3",
   "language": "python",
   "name": "python3"
  },
  "language_info": {
   "codemirror_mode": {
    "name": "ipython",
    "version": 3
   },
   "file_extension": ".py",
   "mimetype": "text/x-python",
   "name": "python",
   "nbconvert_exporter": "python",
   "pygments_lexer": "ipython3",
   "version": "3.8.5"
  }
 },
 "nbformat": 4,
 "nbformat_minor": 4
}
