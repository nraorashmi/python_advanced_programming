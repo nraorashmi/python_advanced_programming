{
 "cells": [
  {
   "cell_type": "markdown",
   "metadata": {},
   "source": [
    "1. Create a function that takes a number n (integer greater than zero) as an argument, and returns 2 if n is odd and 8 if n is even.\n",
    "\n",
    "You can only use the following arithmetic operators: addition of numbers +, subtraction of numbers -, multiplication of number *, division of number /, and exponentiation **.\n",
    "\n",
    "You are not allowed to use any other methods in this challenge (i.e. no if statements, comparison operators, etc).\n",
    "\n",
    "Examples\n",
    "\n",
    "f(1) ➞ 2\n",
    "\n",
    "f(2) ➞ 8\n",
    "\n",
    "f(3) ➞ 2\n"
   ]
  },
  {
   "cell_type": "code",
   "execution_count": 19,
   "metadata": {},
   "outputs": [
    {
     "data": {
      "text/plain": [
       "8"
      ]
     },
     "execution_count": 19,
     "metadata": {},
     "output_type": "execute_result"
    }
   ],
   "source": [
    "def f(n):\n",
    "        return 8 if int(n/2)*2==n else 2\n",
    "f(2)    "
   ]
  },
  {
   "cell_type": "code",
   "execution_count": 22,
   "metadata": {},
   "outputs": [
    {
     "data": {
      "text/plain": [
       "8"
      ]
     },
     "execution_count": 22,
     "metadata": {},
     "output_type": "execute_result"
    }
   ],
   "source": [
    "def f(n):\n",
    "        return 2 if (n&1)==1 else 8\n",
    "f(2)    "
   ]
  },
  {
   "cell_type": "markdown",
   "metadata": {},
   "source": [
    "2. Create a function that returns the majority vote in a list. A majority vote is an element that occurs > N/2 times in a list (where N is the length of the list).\n",
    "\n",
    "Examples\n",
    "\n",
    "majority_vote([\"A\", \"A\", \"B\"]) ➞ \"A\"\n",
    "\n",
    "majority_vote([\"A\", \"A\", \"A\", \"B\", \"C\", \"A\"]) ➞ \"A\"\n",
    "\n",
    "majority_vote([\"A\", \"B\", \"B\", \"A\", \"C\", \"C\"]) ➞ None\n"
   ]
  },
  {
   "cell_type": "code",
   "execution_count": 43,
   "metadata": {},
   "outputs": [
    {
     "data": {
      "text/plain": [
       "'A'"
      ]
     },
     "execution_count": 43,
     "metadata": {},
     "output_type": "execute_result"
    }
   ],
   "source": [
    "def majority_vote(l):\n",
    "    d={}\n",
    "    count=0\n",
    "    for i in l:\n",
    "        d[i]=l.count(i)\n",
    "    #print(d)\n",
    "    keymax = max(d, key=d.get)   \n",
    "    valmax = max(d.values())   \n",
    "    for i,j in d.items():\n",
    "        if j==valmax:\n",
    "            count=count+1\n",
    "    if count>1:        \n",
    "        return \"None\"\n",
    "    else:\n",
    "        return keymax\n",
    "majority_vote([\"A\", \"A\", \"A\", \"B\", \"C\", \"A\"])    "
   ]
  },
  {
   "cell_type": "markdown",
   "metadata": {},
   "source": [
    "3. Create a function that takes a string txt and censors any word from a given list lst. The text removed must be replaced by the given character char.\n",
    "\n",
    "Examples\n",
    "\n",
    "censor_string(\"Today is a Wednesday!\", [\"Today\", \"a\"], \"-\") ➞ \"----- is - Wednesday!\"\n",
    "\n",
    "censor_string(\"The cow jumped over the moon.\", [\"cow\", \"over\"], \"*\"), \"The *** jumped **** the moon.\")\n",
    "\n",
    "censor_string(\"Why did the chicken cross the road?\", [\"Did\", \"chicken\", \"road\"], \"*\") ➞ \"Why *** the ******* cross the ****?\""
   ]
  },
  {
   "cell_type": "code",
   "execution_count": 10,
   "metadata": {},
   "outputs": [
    {
     "data": {
      "text/plain": [
       "'Why *** the ******* cross the ****?'"
      ]
     },
     "execution_count": 10,
     "metadata": {},
     "output_type": "execute_result"
    }
   ],
   "source": [
    "def censor_string(s1, l, c):\n",
    "    s = s1.split()\n",
    "    for i in l:\n",
    "        index = 0\n",
    "        for word in s:\n",
    "            if i.lower() == word.lower():\n",
    "                ch = len(i) * c\n",
    "                s[index] = ch\n",
    "            elif i.lower() == word[0:-1].lower():\n",
    "                ch = len(i) * c\n",
    "                s[index] = ch+word[-1]\n",
    "            index+=1\n",
    "    return \" \".join(s)\n",
    "censor_string(\"Why did the chicken cross the road?\", [\"Did\", \"chicken\", \"road\"], \"*\")"
   ]
  },
  {
   "cell_type": "markdown",
   "metadata": {},
   "source": [
    "4. In mathematics a Polydivisible Number (or magic number) is a number in a given number base with digits abcde... that has the following properties:\n",
    "\n",
    "-  Its first digit a is not 0.\n",
    "- The number formed by its first two digits ab is a multiple of 2.\n",
    "- The number formed by its first three digits abc is a multiple of 3.\n",
    "- The number formed by its first four digits abcd is a multiple of 4.\n",
    "\n",
    "Create a function which takes an integer n and returns True if the given number is a Polydivisible Number and False otherwise.\n",
    "\n",
    "Examples\n",
    "\n",
    "is_polydivisible(1232) ➞ True\n",
    "# 1     / 1 = 1\n",
    "# 12    / 2 = 6\n",
    "# 123   / 3 = 41\n",
    "# 1232  / 4 = 308\n",
    "\n",
    "is_polydivisible(123220 ) ➞ False\n",
    "# 1   / 1 = 1\n",
    "# 12   / 2 = 6\n",
    "# 123   / 3 = 41\n",
    "# 1232   / 4 = 308\n",
    "# 12322   / 5 = 2464.4         # Not a Whole Number\n",
    "# 123220   /6 = 220536.333...  # Not a Whole Number\n"
   ]
  },
  {
   "cell_type": "code",
   "execution_count": 21,
   "metadata": {},
   "outputs": [
    {
     "data": {
      "text/plain": [
       "False"
      ]
     },
     "execution_count": 21,
     "metadata": {},
     "output_type": "execute_result"
    }
   ],
   "source": [
    "def is_polydivisible(n):\n",
    "    num=n\n",
    "    d = 0\n",
    "    flag=0\n",
    "    while n != 0:\n",
    "        n //= 10\n",
    "        d += 1\n",
    "    while d!=0:\n",
    "        if num%d !=0:\n",
    "            flag=1\n",
    "            break\n",
    "        num//=10\n",
    "        d=d-1\n",
    "    if flag==0:\n",
    "        return True\n",
    "    else:\n",
    "        return False\n",
    "is_polydivisible(123220)  "
   ]
  },
  {
   "cell_type": "markdown",
   "metadata": {},
   "source": [
    "5. Create a function that takes a list of numbers and returns the sum of all prime numbers in the list.\n",
    "\n",
    "Examples\n",
    "\n",
    "sum_primes([1, 2, 3, 4, 5, 6, 7, 8, 9, 10]) ➞ 17\n",
    "\n",
    "sum_primes([2, 3, 4, 11, 20, 50, 71]) ➞ 87\n",
    "\n",
    "sum_primes([]) ➞ None\n"
   ]
  },
  {
   "cell_type": "code",
   "execution_count": 3,
   "metadata": {},
   "outputs": [
    {
     "data": {
      "text/plain": [
       "17"
      ]
     },
     "execution_count": 3,
     "metadata": {},
     "output_type": "execute_result"
    }
   ],
   "source": [
    "def sum_primes(l):\n",
    "    sum=0\n",
    "    if len(l)==0:\n",
    "        return \"None\"\n",
    "    else:\n",
    "        for i in l:\n",
    "            if i>1:\n",
    "                if i==2:\n",
    "                    sum=sum+2    \n",
    "                else:\n",
    "                    for j in range(2,i):\n",
    "                        if i%j==0 :    \n",
    "                            break\n",
    "                    else:\n",
    "                        sum=sum+i\n",
    "        return sum\n",
    "sum_primes([1, 2, 3, 4, 5, 6, 7, 8, 9, 10]) \n"
   ]
  }
 ],
 "metadata": {
  "kernelspec": {
   "display_name": "Python 3",
   "language": "python",
   "name": "python3"
  },
  "language_info": {
   "codemirror_mode": {
    "name": "ipython",
    "version": 3
   },
   "file_extension": ".py",
   "mimetype": "text/x-python",
   "name": "python",
   "nbconvert_exporter": "python",
   "pygments_lexer": "ipython3",
   "version": "3.8.5"
  }
 },
 "nbformat": 4,
 "nbformat_minor": 4
}
