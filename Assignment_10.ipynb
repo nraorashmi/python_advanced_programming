{
 "cells": [
  {
   "cell_type": "markdown",
   "metadata": {},
   "source": [
    "1. Create a function that takes the width, height and character and returns a picture frame as a 2D list.\n",
    "\n",
    "Examples\n",
    "\n",
    "get_frame(4, 5, \"#\") ➞ [\n",
    "  [\"####\"],\n",
    "  [\"#  #\"],\n",
    "  [\"#  #\"],\n",
    "  [\"#  #\"],\n",
    "  [\"####\"]\n",
    "]\n",
    "# Frame is 4 characters wide and 5 characters tall.\n",
    "\n",
    "get_frame(10, 3, \"*\") ➞ [\n",
    "  [\"**********\"],\n",
    "  [\"*        *\"],\n",
    "  [\"**********\"]\n",
    "]\n",
    "# Frame is 10 characters and wide and 3 characters tall.\n",
    "\n",
    "get_frame(2, 5, \"0\") ➞ \"invalid\"\n",
    "# Frame's width is not more than 2.\n"
   ]
  },
  {
   "cell_type": "code",
   "execution_count": 173,
   "metadata": {},
   "outputs": [
    {
     "name": "stdout",
     "output_type": "stream",
     "text": [
      "[['**********'], ['*        *'], ['**********']]\n",
      "['**********'],\n",
      "['*        *'],\n",
      "['**********']\n"
     ]
    }
   ],
   "source": [
    "def get_frame(w,h,c):\n",
    "    l1=[]\n",
    "    str=\"\"\n",
    "    if w>3:\n",
    "        for i in range(h):\n",
    "            if i==0 or i==h-1:\n",
    "                l1.append([w* \"\".join(c)])\n",
    "            else:\n",
    "                for j in range(w):\n",
    "                    if j==0 or j==w-1:\n",
    "                        str=str+\"\".join(c)\n",
    "                    else:\n",
    "                        str=str+\"\".join(' ')\n",
    "                l1.append([str])\n",
    "                str=\"\"\n",
    "        print(l1)\n",
    "        for i in range(len(l1)):\n",
    "            print(l1[i],end=\",\" if i!=len(l1)-1 else \"\")\n",
    "            print()\n",
    "    else:\n",
    "        return (\"invalid\")\n",
    "get_frame(10, 3, \"*\")  "
   ]
  },
  {
   "cell_type": "markdown",
   "metadata": {},
   "source": [
    "2. Write three functions:\n",
    "\n",
    "  1. boolean_and\n",
    "  2. boolean_or\n",
    "  3. boolean_xor\n",
    "These functions should evaluate a list of True and False values, starting from the leftmost element and evaluating pairwise.\n",
    "\n",
    "Examples\n",
    "\n",
    "boolean_and([True, True, False, True]) ➞ False\n",
    "# [True, True, False, True] => [True, False, True] => [False, True] => False\n",
    "\n",
    "boolean_or([True, True, False, False]) ➞ True\n",
    "# [True, True, False, True] => [True, False, False] => [True, False] => True\n",
    "\n",
    "boolean_xor([True, True, False, False]) ➞ False\n",
    "# [True, True, False, False] => [False, False, False] => [False, False] => False"
   ]
  },
  {
   "cell_type": "code",
   "execution_count": 98,
   "metadata": {},
   "outputs": [
    {
     "data": {
      "text/plain": [
       "False"
      ]
     },
     "execution_count": 98,
     "metadata": {},
     "output_type": "execute_result"
    }
   ],
   "source": [
    "from functools import reduce\n",
    "def boolean_and(l):\n",
    "    return reduce(lambda x,y : x and y,(i for i in l))\n",
    "boolean_and([True, True, False, True])"
   ]
  },
  {
   "cell_type": "code",
   "execution_count": 99,
   "metadata": {},
   "outputs": [
    {
     "data": {
      "text/plain": [
       "True"
      ]
     },
     "execution_count": 99,
     "metadata": {},
     "output_type": "execute_result"
    }
   ],
   "source": [
    "def boolean_or(l):\n",
    "    return reduce(lambda x,y : x or y,(i for i in l))\n",
    "boolean_or([True, True, False, True])  "
   ]
  },
  {
   "cell_type": "code",
   "execution_count": 104,
   "metadata": {},
   "outputs": [
    {
     "data": {
      "text/plain": [
       "False"
      ]
     },
     "execution_count": 104,
     "metadata": {},
     "output_type": "execute_result"
    }
   ],
   "source": [
    "def boolean_xor(l):\n",
    "    return reduce(lambda x,y : x ^ y,(i for i in l))\n",
    "boolean_xor([True, True, False, False])   "
   ]
  },
  {
   "cell_type": "markdown",
   "metadata": {},
   "source": [
    "3. Create a function that creates a box based on dimension n.\n",
    "\n",
    "Examples\n",
    "\n",
    "make_box(5) ➞ [\n",
    "  \"#####\",\n",
    "  \"#   #\",\n",
    "  \"#   #\",\n",
    "  \"#   #\",\n",
    "  \"#####\"\n",
    "]\n",
    "\n",
    "make_box(3) ➞ [\n",
    "  \"###\",\n",
    "  \"# #\",\n",
    "  \"###\"\n",
    "]\n",
    "\n",
    "make_box(2) ➞ [\n",
    "  \"##\",\n",
    "  \"##\"\n",
    "]\n",
    "\n",
    "make_box(1) ➞ [\n",
    "  \"#\"\n",
    "]"
   ]
  },
  {
   "cell_type": "code",
   "execution_count": 60,
   "metadata": {},
   "outputs": [
    {
     "name": "stdout",
     "output_type": "stream",
     "text": [
      "['###', '# #', '###']\n",
      "###,\n",
      "# #,\n",
      "###\n"
     ]
    }
   ],
   "source": [
    "def make_box(n):\n",
    "    l1=[]\n",
    "    str=\"\"\n",
    "    for i in range(n):\n",
    "        if i==0 or i==n-1:\n",
    "            l1.append(n* \"\".join('#'))\n",
    "        else:\n",
    "            for j in range(n):\n",
    "                if j==0 or j==n-1:\n",
    "                    str=str+\"\".join('#')\n",
    "                else:\n",
    "                    str=str+\"\".join(' ')\n",
    "            l1.append(str)\n",
    "            str=\"\"\n",
    "    print(l1)\n",
    "    for i in range(len(l1)): \n",
    "        print(l1[i] , end=\",\" if i !=len(l1)-1 else \"\") \n",
    "        print()\n",
    "    \n",
    "make_box(3)    "
   ]
  },
  {
   "cell_type": "markdown",
   "metadata": {},
   "source": [
    "4. Given a common phrase, return False if any individual word in the phrase contains duplicate letters. Return True otherwise.\n",
    "\n",
    "Examples\n",
    "\n",
    "no_duplicate_letters(\"Fortune favours the bold.\") ➞ True\n",
    "\n",
    "no_duplicate_letters(\"You can lead a horse to water, but you can't make him drink.\") ➞ True\n",
    "\n",
    "no_duplicate_letters(\"Look before you leap.\") ➞ False\n",
    "# Duplicate letters in \"Look\" and \"before\".\n",
    "\n",
    "no_duplicate_letters(\"An apple a day keeps the doctor away.\") ➞ False\n",
    "# Duplicate letters in \"apple\", \"keeps\", \"doctor\", and \"away\"."
   ]
  },
  {
   "cell_type": "code",
   "execution_count": 138,
   "metadata": {},
   "outputs": [
    {
     "data": {
      "text/plain": [
       "False"
      ]
     },
     "execution_count": 138,
     "metadata": {},
     "output_type": "execute_result"
    }
   ],
   "source": [
    "def no_duplicate_letters(p):\n",
    "    p=p.split(' ')\n",
    "    for i in p:\n",
    "        for j in i:\n",
    "            if i.count(j) > 1:\n",
    "                return False\n",
    "                break\n",
    "    else:\n",
    "        return True\n",
    "no_duplicate_letters(\"An apple a day keeps the doctor away.\")    "
   ]
  },
  {
   "cell_type": "markdown",
   "metadata": {},
   "source": [
    "5. Write a regular expression that will match the states that voted yes to President Trump's impeachment. You must use RegEx positive lookahead.\n",
    "\n",
    "Example\n",
    "\n",
    "txt = \"Texas = no, California = yes, Florida = yes, Michigan = no\"\n",
    "pattern = \"yourregularexpressionhere\"\n",
    "\n",
    "re.findall(pattern, txt) ➞ [\"California\", \"Florida\"]\n"
   ]
  },
  {
   "cell_type": "code",
   "execution_count": 100,
   "metadata": {},
   "outputs": [
    {
     "name": "stdout",
     "output_type": "stream",
     "text": [
      "['California', 'Florida']\n"
     ]
    }
   ],
   "source": [
    "txt = \"Texas = no, California = yes, Florida = yes, Michigan = no\"\n",
    "txt1=txt.replace(',','').replace(' = ','=')\n",
    "pattern=re.compile(r\"\\b(\\w+)=([^=]*)(?=\\s\\w+=\\s*|$)\")\n",
    "d= dict(pattern.findall(txt1))\n",
    "print ([k for k,v in d.items() if v=='yes']) "
   ]
  }
 ],
 "metadata": {
  "kernelspec": {
   "display_name": "Python 3",
   "language": "python",
   "name": "python3"
  },
  "language_info": {
   "codemirror_mode": {
    "name": "ipython",
    "version": 3
   },
   "file_extension": ".py",
   "mimetype": "text/x-python",
   "name": "python",
   "nbconvert_exporter": "python",
   "pygments_lexer": "ipython3",
   "version": "3.8.5"
  }
 },
 "nbformat": 4,
 "nbformat_minor": 4
}
